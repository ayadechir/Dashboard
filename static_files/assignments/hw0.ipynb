{
  "cells": [
    {
      "cell_type": "markdown",
      "metadata": {
        "id": "M1Zj6E098z81"
      },
      "source": [
        "# Devoir 1 &mdash; Algèbre linéaire et manipulation d'images sous Python\n",
        "**Échéance : 16 février 2025 &ndash; 23h59**\n",
        "<br><br>\n",
        "\n",
        "## Récupération des fichiers dans Colab"
      ]
    },
    {
      "cell_type": "code",
      "execution_count": 8,
      "metadata": {
        "id": "joSGkiFD8z85"
      },
      "outputs": [],
      "source": [
        "#\n",
        "# Exécutez cette cellule pour préparer votre environnement Colab.\n",
        "#\n",
        "%%capture\n",
        "!wget https://benhadid.github.io/m1vpo/static_files/assignments/hw0.zip\n",
        "!unzip hw0.zip\n",
        "!mv hw0/* .\n",
        "!rm -rf hw0\n",
        "!rm -rf hw0.zip"
      ]
    },
    {
      "cell_type": "markdown",
      "metadata": {
        "id": "p9KFfs718z86"
      },
      "source": [
        "## Initialisation du bloc-notes"
      ]
    },
    {
      "cell_type": "code",
      "execution_count": null,
      "metadata": {
        "id": "2HReuTfx8z87"
      },
      "outputs": [],
      "source": [
        "#Importe la fonction print_function à partir de version future de python\n",
        "from __future__ import print_function\n",
        "\n",
        "#Setup\n",
        "\n",
        "# Le module random implémente un générateur de nombres pseudo-aléatoire\n",
        "import random\n",
        "\n",
        "# Numpy est le paquetage principal utilisé pour le calcul scientifique dans Python.\n",
        "# Ce paquetage sera l'une de nos bibliothèques les plus utilisées dans ce cours\n",
        "import numpy as np\n",
        "\n",
        "\n",
        "#Importe toutes les méthodes dans les fichiers: linalg.py et imageManip.py\n",
        "from linalg import *\n",
        "from imageManip import *\n",
        "\n",
        "\n",
        "#Matplotlib est une bibliothèque de traçage(dessin) pour python\n",
        "import matplotlib.pyplot as plt\n",
        "# Le code suivant fait apparaître les figure de matplotlib en ligne dans le\n",
        "# notebook au lieu de lancer une nouvelle fenêtre.\n",
        "%matplotlib inline\n",
        "plt.rcParams['figure.figsize'] = (10.0, 8.0) # fixer les dimensions par défaut des figures\n",
        "plt.rcParams['image.interpolation'] = 'nearest'\n",
        "plt.rcParams['image.cmap'] = 'gray'\n",
        "\n",
        "\n",
        "# Quelques instructions supplémentaires pour que le notebook recharge les modules externes en python;\n",
        "# voir http://stackoverflow.com/questions/1907993/autoreload-of-modules-in-ipython\n",
        "%load_ext autoreload\n",
        "%autoreload 2\n",
        "%reload_ext autoreload"
      ]
    },
    {
      "cell_type": "markdown",
      "metadata": {
        "id": "yuGI-ke58z87"
      },
      "source": [
        "## 1. Description\n",
        "\n",
        "Nous allons explorer dans ce devoir des notions de base d'algèbre linéaire et quelques techniques de manipulation d'images sous Python. Cela permettra de mettre tout le monde à la même page par rapport aux compétences requises pour ce module.\n",
        "\n",
        "Par ailleurs, l'autre objectif de ce devoir est de vous initier/inciter à rechercher sur la toile les fonctionnalités python susceptible de vous aider à résoudre un problème donné. Ainsi, dans de nombreuses fonctions que vous implémenterez ici, vous devez identifier / utiliser les fonctions python qui peuvent vous assister."
      ]
    },
    {
      "cell_type": "markdown",
      "metadata": {
        "tags": [],
        "id": "6n72hs5w8z88"
      },
      "source": [
        "## 2. Algèbre Linéaire\n",
        "Dans cette section, nous allons revoir quelques notions d'algèbre linéaire et apprendre à manipuler des vecteurs et des matrices en python à l'aide de Numpy. À la fin de cette section, vous aurez implémenté toutes les méthodes requises dans le fichier `linalg.py`."
      ]
    },
    {
      "cell_type": "markdown",
      "metadata": {
        "id": "tseNcFks8z88"
      },
      "source": [
        "### Question 2.1\n",
        "En premier lieu, définissez les matrices et vecteurs suivants à l'aide de Numpy. En ce sens, cherchez sur la toile la documentation sur `np.array()`. Dans le bloc de code suivant, définissez $M$ comme une matrice $(4, 3)$, $a$ comme un vecteur ligne $(1, 3)$ et $b$ comme un vecteur colonne $(3, 1)$ :\n",
        "\n",
        "$$\n",
        "M = \\begin{bmatrix}\n",
        "1 & 2 & 3 \\\\\n",
        "4 & 5 & 6 \\\\\n",
        "7 & 8 & 9 \\\\\n",
        "10 & 11 & 12 \\end{bmatrix}\n",
        ", \\qquad\n",
        "a = \\begin{bmatrix}\n",
        "1 & 1 & 0\n",
        "\\end{bmatrix}\n",
        ", \\qquad\n",
        "b = \\begin{bmatrix}\n",
        "-1 \\\\ 2 \\\\ 5\n",
        "\\end{bmatrix}  \n",
        "$$"
      ]
    },
    {
      "cell_type": "code",
      "execution_count": null,
      "metadata": {
        "scrolled": true,
        "id": "ps0S85qR8z88"
      },
      "outputs": [],
      "source": [
        "import numpy as np\n",
        "\n",
        "# Définir la matrice M (4x3)\n",
        "M = np.array([\n",
        "    [1, 2, 3],    # Première ligne\n",
        "    [4, 5, 6],    # Deuxième ligne\n",
        "    [7, 8, 9],    # Troisième ligne\n",
        "    [10, 11, 12]  # Quatrième ligne\n",
        "])\n",
        "\n",
        "# Définir le vecteur ligne a (1x3)\n",
        "a = np.array([1, 1, 0])\n",
        "\n",
        "# Définir le vecteur colonne b (3x1)\n",
        "b = np.array([\n",
        "    [-1],  # Premier élément\n",
        "    [2],   # Deuxième élément\n",
        "    [5]    # Troisième élément\n",
        "])\n",
        "\n",
        "print(\"M = \\n\", M)\n",
        "print(\"Dimension de M : \", M.shape)\n",
        "print()\n",
        "print(\"a = \", a)\n",
        "print(\"Dimension de a : \", a.shape)\n",
        "print()\n",
        "print(\"b = \", b)\n",
        "print(\"Dimension de b : \", b.shape)"
      ]
    },
    {
      "cell_type": "markdown",
      "metadata": {
        "id": "H_b7v1ma8z89"
      },
      "source": [
        "### Question 2.2\n",
        "Implementez la méthode `dot_product()` dans `linalg.py` et vérifiez qu'elle retourne une réponse corrècte pour le produit scalaire $\\: b^T a^T$."
      ]
    },
    {
      "cell_type": "code",
      "execution_count": 9,
      "metadata": {
        "id": "29W0hwJq8z89",
        "outputId": "f9386243-c3d7-4388-b718-52a8841d38b2",
        "colab": {
          "base_uri": "https://localhost:8080/"
        }
      },
      "outputs": [
        {
          "output_type": "stream",
          "name": "stdout",
          "text": [
            "[[1]]\n",
            "dimension :  (1, 1)\n"
          ]
        }
      ],
      "source": [
        "import numpy as np\n",
        "\n",
        "def dot_product(a, b):\n",
        "    \"\"\"Implémente le produit scalaire entre les vecteurs a et b.\n",
        "\n",
        "    Args:\n",
        "        a: numpy array de shape (x, n)\n",
        "        b: numpy array de shape (n, x)\n",
        "\n",
        "    Returns:\n",
        "        out: numpy array de shape (x, x) (scalaire si x = 1)\n",
        "    \"\"\"\n",
        "    out = np.dot(a, b)\n",
        "    return out\n",
        "\n",
        "# Test de la fonction\n",
        "a = np.array([[1, 0]])\n",
        "b = np.array([[1], [0]])\n",
        "\n",
        "aDotB = dot_product(a, b)\n",
        "print(aDotB)  # Résultat attendu : [[1]]\n",
        "print(\"dimension : \", aDotB.shape)  # Résultat attendu : (1,1)\n"
      ]
    },
    {
      "cell_type": "markdown",
      "metadata": {
        "id": "pNHi4M3N8z89"
      },
      "source": [
        "### Question 2.3\n",
        "Implémentez la méthode `complicated_matrix_function()` dans `linalg.py` et utilisez là pour calculer le produit $(b^T a^T) M a^T$\n",
        "\n",
        "NOTE IMPORTANTE : La méthode `complicated_matrix_function()` s'attend à ce que toutes les entrées soient des tableaux Numpy bidimensionnels. Ceci est nécessaire car les tableaux Numpy 2D peuvent être transposés, tandis que les tableaux 1D (c.-à-d. les vecteurs) ne peuvent pas être transposés.\n",
        "\n",
        "Pour transposer un tableau bidimensionnel `array`, vous pouvez utiliser la syntaxe `array.T`"
      ]
    },
    {
      "cell_type": "code",
      "execution_count": 11,
      "metadata": {
        "id": "voF_is9b8z8-",
        "outputId": "c758b42b-d7d9-40c1-d4e8-f83aac3de577",
        "colab": {
          "base_uri": "https://localhost:8080/"
        }
      },
      "outputs": [
        {
          "output_type": "stream",
          "name": "stdout",
          "text": [
            "[[ 6]\n",
            " [14]\n",
            " [22]\n",
            " [30]]\n",
            "\n",
            "dimension :  (4, 1)\n"
          ]
        }
      ],
      "source": [
        "import numpy as np\n",
        "\n",
        "def complicated_matrix_function(M, a, b):\n",
        "    \"\"\"Calcule (b^T * a^T) * M * a^T.\n",
        "\n",
        "    Args:\n",
        "        M: numpy array de shape (m, n)\n",
        "        a: numpy array de shape (1, n)\n",
        "        b: numpy array de shape (n, 1)\n",
        "\n",
        "    Returns:\n",
        "        out: numpy array de shape (m, 1)\n",
        "    \"\"\"\n",
        "    scalar = np.dot(b.T, a.T)  # Produit scalaire : (1,1)\n",
        "    out = scalar * (M @ a.T)  # Multiplication scalaire * (m,1)\n",
        "    return out\n",
        "\n",
        "# Test avec les matrices fournies\n",
        "M = np.array([[1, 2], [3, 4], [5, 6], [7, 8]])  # (4,2)\n",
        "a = np.array([[1, 1]])  # (1,2)\n",
        "b = np.array([[1], [1]])  # (2,1)\n",
        "\n",
        "ans = complicated_matrix_function(M, a, b)\n",
        "\n",
        "print(ans)  # Résultat attendu : [[3], [9], [15], [21]]\n",
        "print()\n",
        "print(\"dimension : \", ans.shape)  # Résultat attendu : (4,1)\n"
      ]
    },
    {
      "cell_type": "code",
      "execution_count": 12,
      "metadata": {
        "id": "yJR1Dxk58z8-",
        "outputId": "3ec20733-0f86-41db-c970-3fdb4e4b088e",
        "colab": {
          "base_uri": "https://localhost:8080/"
        }
      },
      "outputs": [
        {
          "output_type": "stream",
          "name": "stdout",
          "text": [
            "[[ 20]\n",
            " [100]]\n",
            "\n",
            "dimension :  (2, 1)\n"
          ]
        }
      ],
      "source": [
        "\n",
        "def complicated_matrix_function(M, a, b):\n",
        "    \"\"\"Calcule (b^T * a^T) * M * a^T.\n",
        "\n",
        "    Args:\n",
        "        M: numpy array de shape (m, n)\n",
        "        a: numpy array de shape (1, n)\n",
        "        b: numpy array de shape (n, 1)\n",
        "\n",
        "    Returns:\n",
        "        out: numpy array de shape (m, 1)\n",
        "    \"\"\"\n",
        "    scalar = np.dot(b.T, a.T)  # Produit scalaire : (1,1)\n",
        "    out = scalar * (M @ a.T)  # Multiplication scalaire * (m,1)\n",
        "    return out\n",
        "\n",
        "# Définition des matrices\n",
        "M_2 = np.array(range(4)).reshape((2,2))  # (2,2)\n",
        "a_2 = np.array([[1,1]])  # (1,2)\n",
        "b_2 = np.array([[10, 10]]).T  # (2,1)\n",
        "\n",
        "# Exécution\n",
        "ans = complicated_matrix_function(M_2, a_2, b_2)\n",
        "\n",
        "print(ans)  # Résultat attendu : [[20], [100]]\n",
        "print()\n",
        "print(\"dimension : \", ans.shape)  # Résultat attendu : (2,1)\n"
      ]
    },
    {
      "cell_type": "markdown",
      "metadata": {
        "id": "KVM6oYBx8z8-"
      },
      "source": [
        "### Question 2.4\n",
        "Implémentez les fonctions `svd()` et `get_singular_values()`. Dans `svd()`, vous devez effectuer une décomposition en valeurs singulières ([plus d'info](https://fr.wikipedia.org/wiki/D%C3%A9composition_en_valeurs_singuli%C3%A8res)) de la matrice fournie en entrée. La fonction `get_singular_values()` doit retourner les k plus grandes valeurs singulières (k est donné en paramètre lors d'appels de cette fonction)."
      ]
    },
    {
      "cell_type": "code",
      "execution_count": 13,
      "metadata": {
        "id": "kj52RfEE8z8-",
        "outputId": "b81a61fc-da6f-4fe6-f422-b983f882ae80",
        "colab": {
          "base_uri": "https://localhost:8080/"
        }
      },
      "outputs": [
        {
          "output_type": "stream",
          "name": "stdout",
          "text": [
            "[5.]\n",
            "[5. 5.]\n"
          ]
        }
      ],
      "source": [
        "import numpy as np\n",
        "\n",
        "def svd(M):\n",
        "    \"\"\"Effectue une décomposition en valeurs singulières (SVD).\n",
        "\n",
        "    Args:\n",
        "        M: numpy array de shape (m, n)\n",
        "\n",
        "    Returns:\n",
        "        U: Matrice orthogonale de shape (m, m)\n",
        "        S: Valeurs singulières sous forme d'un vecteur de shape (min(m, n),)\n",
        "        V_T: Matrice orthogonale de shape (n, n)\n",
        "    \"\"\"\n",
        "    U, S, V_T = np.linalg.svd(M, full_matrices=True)\n",
        "    return U, S, V_T\n",
        "\n",
        "def get_singular_values(M, k):\n",
        "    \"\"\"Retourne les k plus grandes valeurs singulières de M.\n",
        "\n",
        "    Args:\n",
        "        M: numpy array de shape (m, n)\n",
        "        k: Nombre de valeurs singulières à récupérer\n",
        "\n",
        "    Returns:\n",
        "        numpy array de shape (k,)\n",
        "    \"\"\"\n",
        "    _, S, _ = svd(M)  # Récupération des valeurs singulières\n",
        "    return S[:k]  # Extraction des k premières\n",
        "\n",
        "# Définition de la matrice M\n",
        "M = np.array([[3, 2, 2], [2, 3, -2], [2, -2, 3]])\n",
        "\n",
        "# Première valeur singulière\n",
        "only_first_singular_value = get_singular_values(M, 1)\n",
        "print(only_first_singular_value)  # Doit être ~ 25.46\n",
        "\n",
        "# Deux premières valeurs singulières\n",
        "first_two_singular_values = get_singular_values(M, 2)\n",
        "print(first_two_singular_values)\n",
        "\n",
        "# Vérification que la première valeur singulière est la même dans les deux appels\n",
        "assert only_first_singular_value[0] == first_two_singular_values[0]\n"
      ]
    },
    {
      "cell_type": "markdown",
      "metadata": {
        "id": "Nxb2nuNm8z8_"
      },
      "source": [
        "### Question 2.5\n",
        "Implementez les méthodes `eigen_decomp()` et `get_eigen_values_and_vectors()`. Vous devez effectuer ici la décomposition en valeurs propres ([plus d'infos](https://fr.wikipedia.org/wiki/D%C3%A9composition_d%27une_matrice_en_%C3%A9l%C3%A9ments_propres)) de la matrice ci-dessous, puis retourner les k plus grandes valeurs propres et vecteurs propres associés.\n",
        "\n",
        "$$M = \\begin{bmatrix}\n",
        "1 & 2 & 3 \\\\\n",
        "4 & 5 & 6 \\\\\n",
        "7 & 8 & 9 \\end{bmatrix}\n",
        "$$\n"
      ]
    },
    {
      "cell_type": "code",
      "execution_count": 14,
      "metadata": {
        "id": "mIHK30j58z8_",
        "outputId": "b65e2ee8-e28d-49f1-99a4-2e160b8e73fc",
        "colab": {
          "base_uri": "https://localhost:8080/"
        }
      },
      "outputs": [
        {
          "output_type": "stream",
          "name": "stdout",
          "text": [
            "Première valeur propre =  [16.11684397]\n",
            "\n",
            "Premier vecteur propre = \n",
            " [[-0.46454727]\n",
            " [-0.57079553]\n",
            " [-0.67704379]]\n",
            "\n",
            "Valeurs propres =  [ 1.61168440e+01 -5.70069119e-16]\n",
            "\n",
            "Vecteurs propres = \n",
            " [[-0.46454727  0.40824829]\n",
            " [-0.57079553 -0.81649658]\n",
            " [-0.67704379  0.40824829]]\n"
          ]
        }
      ],
      "source": [
        "import numpy as np\n",
        "\n",
        "def eigen_decomp(M):\n",
        "    \"\"\"Effectue la décomposition en valeurs propres d'une matrice carrée.\n",
        "\n",
        "    Args:\n",
        "        M: numpy array de shape (n, n)\n",
        "\n",
        "    Returns:\n",
        "        eigenvalues: Liste des valeurs propres\n",
        "        eigenvectors: Matrice où chaque colonne est un vecteur propre\n",
        "    \"\"\"\n",
        "    eigenvalues, eigenvectors = np.linalg.eig(M)\n",
        "    return eigenvalues, eigenvectors\n",
        "\n",
        "def get_eigen_values_and_vectors(M, k):\n",
        "    \"\"\"Retourne les k plus grandes valeurs propres et vecteurs propres associés.\n",
        "\n",
        "    Args:\n",
        "        M: numpy array de shape (n, n)\n",
        "        k: Nombre de valeurs propres et vecteurs à récupérer\n",
        "\n",
        "    Returns:\n",
        "        top_k_eigenvalues: numpy array de shape (k,)\n",
        "        top_k_eigenvectors: numpy array de shape (k, n)\n",
        "    \"\"\"\n",
        "    eigenvalues, eigenvectors = eigen_decomp(M)\n",
        "\n",
        "    # Trier les valeurs propres en ordre décroissant et récupérer les indices\n",
        "    sorted_indices = np.argsort(-eigenvalues)\n",
        "    top_k_eigenvalues = eigenvalues[sorted_indices][:k]\n",
        "    top_k_eigenvectors = eigenvectors[:, sorted_indices][:, :k]\n",
        "\n",
        "    return top_k_eigenvalues, top_k_eigenvectors\n",
        "\n",
        "# Définition de la matrice M\n",
        "M = np.array([\n",
        "    [1, 4, 7],\n",
        "    [2, 5, 8],\n",
        "    [3, 6, 9]\n",
        "])\n",
        "\n",
        "# Première valeur propre et premier vecteur propre\n",
        "val, vec = get_eigen_values_and_vectors(M, 1)\n",
        "print(\"Première valeur propre = \", val)\n",
        "print()\n",
        "print(\"Premier vecteur propre = \\n\", vec)\n",
        "print()\n",
        "assert len(vec) == 3  # Un vecteur propre a la même dimension que la matrice\n",
        "\n",
        "# Deux premières valeurs propres et vecteurs propres\n",
        "val, vec = get_eigen_values_and_vectors(M, 2)\n",
        "print(\"Valeurs propres = \", val)\n",
        "print()\n",
        "print(\"Vecteurs propres = \\n\", vec)\n",
        "assert len(vec) == 3  # Deux vecteurs propres stockés en colonnes\n"
      ]
    },
    {
      "cell_type": "markdown",
      "metadata": {
        "id": "2wQ5UfSa8z8_"
      },
      "source": [
        "## 3. Manipulation d'images\n",
        "\n",
        "Dans cette deuxième partie, commençons par charger en mémoire quelques images afin de réaliser des opérations matricielles dessus. A la fin de cette section, vous aurez implémenté toutes les fonctions dans le fichier `imageManip.py`"
      ]
    },
    {
      "cell_type": "code",
      "execution_count": 16,
      "metadata": {
        "id": "jQB1QbXY8z8_",
        "outputId": "d792ce1a-02bb-42de-8333-9c158c0cab6a",
        "colab": {
          "base_uri": "https://localhost:8080/",
          "height": 356
        }
      },
      "outputs": [
        {
          "output_type": "error",
          "ename": "TclError",
          "evalue": "no display name and no $DISPLAY environment variable",
          "traceback": [
            "\u001b[0;31m---------------------------------------------------------------------------\u001b[0m",
            "\u001b[0;31mTclError\u001b[0m                                  Traceback (most recent call last)",
            "\u001b[0;32m<ipython-input-16-ae0903b4cd82>\u001b[0m in \u001b[0;36m<cell line: 0>\u001b[0;34m()\u001b[0m\n\u001b[1;32m     24\u001b[0m \u001b[0;31m# Exécution\u001b[0m\u001b[0;34m\u001b[0m\u001b[0;34m\u001b[0m\u001b[0m\n\u001b[1;32m     25\u001b[0m \u001b[0;32mif\u001b[0m \u001b[0m__name__\u001b[0m \u001b[0;34m==\u001b[0m \u001b[0;34m\"__main__\"\u001b[0m\u001b[0;34m:\u001b[0m\u001b[0;34m\u001b[0m\u001b[0;34m\u001b[0m\u001b[0m\n\u001b[0;32m---> 26\u001b[0;31m     \u001b[0mimg\u001b[0m \u001b[0;34m=\u001b[0m \u001b[0mload_image\u001b[0m\u001b[0;34m(\u001b[0m\u001b[0;34m)\u001b[0m\u001b[0;34m\u001b[0m\u001b[0;34m\u001b[0m\u001b[0m\n\u001b[0m\u001b[1;32m     27\u001b[0m     \u001b[0;32mif\u001b[0m \u001b[0mimg\u001b[0m \u001b[0;32mis\u001b[0m \u001b[0;32mnot\u001b[0m \u001b[0;32mNone\u001b[0m\u001b[0;34m:\u001b[0m\u001b[0;34m\u001b[0m\u001b[0;34m\u001b[0m\u001b[0m\n\u001b[1;32m     28\u001b[0m         \u001b[0mplt\u001b[0m\u001b[0;34m.\u001b[0m\u001b[0mimshow\u001b[0m\u001b[0;34m(\u001b[0m\u001b[0mimg\u001b[0m\u001b[0;34m,\u001b[0m \u001b[0mcmap\u001b[0m\u001b[0;34m=\u001b[0m\u001b[0;34m\"gray\"\u001b[0m\u001b[0;34m)\u001b[0m\u001b[0;34m\u001b[0m\u001b[0;34m\u001b[0m\u001b[0m\n",
            "\u001b[0;32m<ipython-input-16-ae0903b4cd82>\u001b[0m in \u001b[0;36mload_image\u001b[0;34m()\u001b[0m\n\u001b[1;32m     13\u001b[0m \u001b[0;32mdef\u001b[0m \u001b[0mload_image\u001b[0m\u001b[0;34m(\u001b[0m\u001b[0;34m)\u001b[0m\u001b[0;34m:\u001b[0m\u001b[0;34m\u001b[0m\u001b[0;34m\u001b[0m\u001b[0m\n\u001b[1;32m     14\u001b[0m     \u001b[0;34m\"\"\"Charge une image sélectionnée par l'utilisateur.\"\"\"\u001b[0m\u001b[0;34m\u001b[0m\u001b[0;34m\u001b[0m\u001b[0m\n\u001b[0;32m---> 15\u001b[0;31m     \u001b[0mimage_path\u001b[0m \u001b[0;34m=\u001b[0m \u001b[0mselect_image\u001b[0m\u001b[0;34m(\u001b[0m\u001b[0;34m)\u001b[0m\u001b[0;34m\u001b[0m\u001b[0;34m\u001b[0m\u001b[0m\n\u001b[0m\u001b[1;32m     16\u001b[0m     \u001b[0;32mif\u001b[0m \u001b[0;32mnot\u001b[0m \u001b[0mimage_path\u001b[0m\u001b[0;34m:\u001b[0m\u001b[0;34m\u001b[0m\u001b[0;34m\u001b[0m\u001b[0m\n\u001b[1;32m     17\u001b[0m         \u001b[0mprint\u001b[0m\u001b[0;34m(\u001b[0m\u001b[0;34m\"Aucune image sélectionnée.\"\u001b[0m\u001b[0;34m)\u001b[0m\u001b[0;34m\u001b[0m\u001b[0;34m\u001b[0m\u001b[0m\n",
            "\u001b[0;32m<ipython-input-16-ae0903b4cd82>\u001b[0m in \u001b[0;36mselect_image\u001b[0;34m()\u001b[0m\n\u001b[1;32m      6\u001b[0m \u001b[0;32mdef\u001b[0m \u001b[0mselect_image\u001b[0m\u001b[0;34m(\u001b[0m\u001b[0;34m)\u001b[0m\u001b[0;34m:\u001b[0m\u001b[0;34m\u001b[0m\u001b[0;34m\u001b[0m\u001b[0m\n\u001b[1;32m      7\u001b[0m     \u001b[0;34m\"\"\"Ouvre une boîte de dialogue pour sélectionner une image.\"\"\"\u001b[0m\u001b[0;34m\u001b[0m\u001b[0;34m\u001b[0m\u001b[0m\n\u001b[0;32m----> 8\u001b[0;31m     \u001b[0mroot\u001b[0m \u001b[0;34m=\u001b[0m \u001b[0mTk\u001b[0m\u001b[0;34m(\u001b[0m\u001b[0;34m)\u001b[0m\u001b[0;34m\u001b[0m\u001b[0;34m\u001b[0m\u001b[0m\n\u001b[0m\u001b[1;32m      9\u001b[0m     \u001b[0mroot\u001b[0m\u001b[0;34m.\u001b[0m\u001b[0mwithdraw\u001b[0m\u001b[0;34m(\u001b[0m\u001b[0;34m)\u001b[0m  \u001b[0;31m# Cacher la fenêtre principale\u001b[0m\u001b[0;34m\u001b[0m\u001b[0;34m\u001b[0m\u001b[0m\n\u001b[1;32m     10\u001b[0m     \u001b[0mfile_path\u001b[0m \u001b[0;34m=\u001b[0m \u001b[0mfiledialog\u001b[0m\u001b[0;34m.\u001b[0m\u001b[0maskopenfilename\u001b[0m\u001b[0;34m(\u001b[0m\u001b[0mtitle\u001b[0m\u001b[0;34m=\u001b[0m\u001b[0;34m\"Sélectionner une image\"\u001b[0m\u001b[0;34m,\u001b[0m \u001b[0mfiletypes\u001b[0m\u001b[0;34m=\u001b[0m\u001b[0;34m[\u001b[0m\u001b[0;34m(\u001b[0m\u001b[0;34m\"Images\"\u001b[0m\u001b[0;34m,\u001b[0m \u001b[0;34m\"*.jpg;*.png;*.bmp\"\u001b[0m\u001b[0;34m)\u001b[0m\u001b[0;34m]\u001b[0m\u001b[0;34m)\u001b[0m\u001b[0;34m\u001b[0m\u001b[0;34m\u001b[0m\u001b[0m\n",
            "\u001b[0;32m/usr/lib/python3.11/tkinter/__init__.py\u001b[0m in \u001b[0;36m__init__\u001b[0;34m(self, screenName, baseName, className, useTk, sync, use)\u001b[0m\n\u001b[1;32m   2324\u001b[0m                 \u001b[0mbaseName\u001b[0m \u001b[0;34m=\u001b[0m \u001b[0mbaseName\u001b[0m \u001b[0;34m+\u001b[0m \u001b[0mext\u001b[0m\u001b[0;34m\u001b[0m\u001b[0;34m\u001b[0m\u001b[0m\n\u001b[1;32m   2325\u001b[0m         \u001b[0minteractive\u001b[0m \u001b[0;34m=\u001b[0m \u001b[0;32mFalse\u001b[0m\u001b[0;34m\u001b[0m\u001b[0;34m\u001b[0m\u001b[0m\n\u001b[0;32m-> 2326\u001b[0;31m         \u001b[0mself\u001b[0m\u001b[0;34m.\u001b[0m\u001b[0mtk\u001b[0m \u001b[0;34m=\u001b[0m \u001b[0m_tkinter\u001b[0m\u001b[0;34m.\u001b[0m\u001b[0mcreate\u001b[0m\u001b[0;34m(\u001b[0m\u001b[0mscreenName\u001b[0m\u001b[0;34m,\u001b[0m \u001b[0mbaseName\u001b[0m\u001b[0;34m,\u001b[0m \u001b[0mclassName\u001b[0m\u001b[0;34m,\u001b[0m \u001b[0minteractive\u001b[0m\u001b[0;34m,\u001b[0m \u001b[0mwantobjects\u001b[0m\u001b[0;34m,\u001b[0m \u001b[0museTk\u001b[0m\u001b[0;34m,\u001b[0m \u001b[0msync\u001b[0m\u001b[0;34m,\u001b[0m \u001b[0muse\u001b[0m\u001b[0;34m)\u001b[0m\u001b[0;34m\u001b[0m\u001b[0;34m\u001b[0m\u001b[0m\n\u001b[0m\u001b[1;32m   2327\u001b[0m         \u001b[0;32mif\u001b[0m \u001b[0museTk\u001b[0m\u001b[0;34m:\u001b[0m\u001b[0;34m\u001b[0m\u001b[0;34m\u001b[0m\u001b[0m\n\u001b[1;32m   2328\u001b[0m             \u001b[0mself\u001b[0m\u001b[0;34m.\u001b[0m\u001b[0m_loadtk\u001b[0m\u001b[0;34m(\u001b[0m\u001b[0;34m)\u001b[0m\u001b[0;34m\u001b[0m\u001b[0;34m\u001b[0m\u001b[0m\n",
            "\u001b[0;31mTclError\u001b[0m: no display name and no $DISPLAY environment variable"
          ]
        }
      ],
      "source": [
        "import numpy as np\n",
        "import imageio.v3 as imageio\n",
        "import ipywidgets as widgets\n",
        "from IPython.display import display\n",
        "from google.colab import files\n",
        "\n",
        "def upload_image():\n",
        "    \"\"\"Ouvre une boîte de dialogue pour uploader une image.\"\"\"\n",
        "    uploaded = files.upload()\n",
        "    for filename in uploaded.keys():\n",
        "        img = imageio.imread(filename)\n",
        "        return img, filename\n",
        "    return None, None\n",
        "\n",
        "# Exécution\n",
        "img, img_name = upload_image()\n",
        "if img is not None:\n",
        "    import matplotlib.pyplot as plt\n",
        "    plt.imshow(img, cmap=\"gray\")\n",
        "    plt.title(f\"Image : {img_name}\")\n",
        "    plt.axis(\"off\")\n",
        "    plt.show()\n",
        "\n",
        "\n"
      ]
    },
    {
      "cell_type": "markdown",
      "metadata": {
        "id": "9k-vkXN38z9A"
      },
      "source": [
        "### Question 3.1\n",
        "Implémentez la méthode de chargement `load()` dans `imageManip.py`. Les images chargées seront utilisées dans le reste de ce notebook pour visualiser vos résultats."
      ]
    },
    {
      "cell_type": "code",
      "execution_count": null,
      "metadata": {
        "id": "ZNaPtkcD8z9A"
      },
      "outputs": [],
      "source": [
        "image1 = load(image1_path)\n",
        "image2 = load(image2_path)\n",
        "\n",
        "display(image1)\n",
        "display(image2)"
      ]
    },
    {
      "cell_type": "markdown",
      "metadata": {
        "id": "HpZFA31I8z9A"
      },
      "source": [
        "### Question 3.2\n",
        "Implémentez la méthode `dim_image()` qui transforme une image fournie en entrée en utilisant la formule $x_n = 0.5 \\times x_p^2$ pour chaque pixel, où $x_n$ est la nouvelle valeur et $x_p$ est la valeur initiale.\n",
        "\n",
        "**Remarque :** Rappelons que les valeurs d'intensité d'une image en virgule flottante doivent être dans la plage $[0.0, 1.0]$. Ainsi, la formule ci-dessus réduira les valeurs de ces intensités et produira donc une image plus sombre."
      ]
    },
    {
      "cell_type": "code",
      "execution_count": null,
      "metadata": {
        "scrolled": true,
        "id": "n06SGPPR8z9A"
      },
      "outputs": [],
      "source": [
        "new_image = dim_image(image1)\n",
        "display(new_image)"
      ]
    },
    {
      "cell_type": "markdown",
      "metadata": {
        "id": "3e4P6-Z88z9A"
      },
      "source": [
        "### Question 3.3\n",
        "Implémentez la méthode `convert_to_grey_scale()` pour convertir une image en niveaux de gris (c.f. voir description de la fonction dans le fichier `imageManip.py` pour plus de détails)."
      ]
    },
    {
      "cell_type": "code",
      "execution_count": null,
      "metadata": {
        "id": "1fLWjqdq8z9B"
      },
      "outputs": [],
      "source": [
        "grey_image = convert_to_grey_scale(image1)\n",
        "display(grey_image)"
      ]
    },
    {
      "cell_type": "markdown",
      "metadata": {
        "id": "OOjouBz88z9B"
      },
      "source": [
        "### Question 3.4\n",
        "\n",
        "Implémentez la méthode `rgb_exclusion()` pour décomposer une image en ces trois canaux R (rouge), G (vert), B (bleu), puis retourner une nouvelle image en excluant le canal spécifié."
      ]
    },
    {
      "cell_type": "code",
      "execution_count": null,
      "metadata": {
        "scrolled": true,
        "id": "pbxgtPB28z9B"
      },
      "outputs": [],
      "source": [
        "without_red = rgb_exclusion(image1, 'R')\n",
        "without_blue = rgb_exclusion(image1, 'B')\n",
        "without_green = rgb_exclusion(image1, 'G')\n",
        "\n",
        "print(\"Ci-dessous, l'image n°1 où le canal rouge a été supprimé.\")\n",
        "display(without_red)\n",
        "\n",
        "print(\"Ci-dessous, l'image n°1 où le canal vert a été supprimé.\")\n",
        "display(without_green)\n",
        "\n",
        "print(\"Ci-dessous, l'image n°1 où le canal bleu a été supprimé.\")\n",
        "display(without_blue)"
      ]
    },
    {
      "cell_type": "markdown",
      "metadata": {
        "id": "COMZfkdb8z9B"
      },
      "source": [
        "### Question 3.5\n",
        "Implémentez la méthode `lab_decomposition()` pour décomposer une image en ces trois canaux L*, a*, b*, puis retournez le canal spécifié ([plus d'info](https://fr.wikipedia.org/wiki/L*a*b*_CIE_1976))."
      ]
    },
    {
      "cell_type": "code",
      "execution_count": null,
      "metadata": {
        "scrolled": true,
        "id": "muQOrqX38z9B"
      },
      "outputs": [],
      "source": [
        "image_l = lab_decomposition(image1, 'L')\n",
        "image_a = lab_decomposition(image1, 'A')\n",
        "image_b = lab_decomposition(image1, 'B')\n",
        "\n",
        "print(\"Ci-dessous, le canal L* dans la décomposition L*a*b* de l'image n°1\")\n",
        "display(image_l)\n",
        "\n",
        "print(\"Ci-dessous, le canal a* dans la décomposition L*a*b* de l'image n°1\")\n",
        "display(image_a)\n",
        "\n",
        "print(\"Ci-dessous, le canal b* dans la décomposition L*a*b* de l'image n°1\")\n",
        "display(image_b)"
      ]
    },
    {
      "cell_type": "markdown",
      "metadata": {
        "id": "RRUO9rNj8z9C"
      },
      "source": [
        "### Question 3.6\n",
        "Implémentez la méthode `hsv_decomposition()` pour décomposer une image en ces trois canaux H, S, V, puis retournez le canal spécifié ([plus d'info](https://fr.wikipedia.org/wiki/Teinte_Saturation_Valeur))."
      ]
    },
    {
      "cell_type": "code",
      "execution_count": null,
      "metadata": {
        "id": "ZJKdZq0Z8z9C"
      },
      "outputs": [],
      "source": [
        "image_h = hsv_decomposition(image1, 'H')\n",
        "image_s = hsv_decomposition(image1, 'S')\n",
        "image_v = hsv_decomposition(image1, 'V')\n",
        "\n",
        "print(\"Ci-dessous, le canal H dans la décomposition HSV de l'image n°1\")\n",
        "display(image_h)\n",
        "\n",
        "print(\"Ci-dessous, le canal S dans la décomposition HSV de l'image n°1\")\n",
        "display(image_s)\n",
        "\n",
        "print(\"Ci-dessous, le canal V dans la décomposition HSV de l'image n°1\")\n",
        "display(image_v)"
      ]
    },
    {
      "cell_type": "markdown",
      "metadata": {
        "id": "ZPBMSgc08z9C"
      },
      "source": [
        "### Question 3.7\n",
        "Dans la méthode `mix_images()`, créez une nouvelle image constituée de la moitié gauche de l'image n°1 et la moitié droite de l'image n°2. Pour chaque image en entrée, vous devez exclure le canal spécifié.\n",
        "\n",
        "Une implémentation correcte devrait afficher la moitié gauche du Mandrill sans le canal rouge et la moitié droite de l'image des maisons sans le canal vert."
      ]
    },
    {
      "cell_type": "code",
      "execution_count": null,
      "metadata": {
        "id": "-nXsOjGI8z9C"
      },
      "outputs": [],
      "source": [
        "image_mixed = mix_images(image1, image2, channel1='R', channel2='G')\n",
        "display(image_mixed)\n",
        "\n",
        "#Test de vérification : la somme des pixels de l'image doit être ~76417.51\n",
        "np.sum(image_mixed)"
      ]
    },
    {
      "cell_type": "markdown",
      "metadata": {
        "id": "_5ehz6lH8z9D"
      },
      "source": [
        "### Question 3.8\n",
        "\n",
        "Implémentez la fonction `mix_quadrants()` dans `imageManip.py`.\n",
        "Cette fonction prend une image et effectue une opération différente sur chacun des quatre quadrants de l'image. Ensuite, elle combine les quatre quadrants ensemble.\n",
        "\n",
        "Voici les quatre opérations que vous devez effectuer sur les 4 quadrants :\n",
        "- Quadrant supérieur gauche : supprimez le canal \"R\" à l'aide de `rgb_exclusion()`.\n",
        "- Quadrant supérieur droit : atténuez le quadrant à l'aide de `dim_image()`.\n",
        "- Quadrant inférieur gauche : éclaircissez le quadrant à l'aide de la fonction  $x_n = x_p^{0.5}$\n",
        "- Quadrant inférieur droit : supprimez le canal \"R\" à l'aide de `rgb_exclusion()`."
      ]
    },
    {
      "cell_type": "code",
      "execution_count": null,
      "metadata": {
        "id": "3L9bkykr8z9D"
      },
      "outputs": [],
      "source": [
        "mixed_quadrants = mix_quadrants(image1)\n",
        "display(mixed_quadrants)"
      ]
    },
    {
      "cell_type": "markdown",
      "metadata": {
        "id": "B1Ufue-A8z9D"
      },
      "source": [
        "## 4. Livrables\n",
        "### 4.1. Le code (à remettre sur [benhadid.ddns.net](https://benhadid.ddns.net/course/M1_VPO/hw0))\n",
        "\n",
        "Le fichier \"devoir1.zip\" contenant les fichiers **`linalg.py`** et **`imageManip.py`** modifiés dans les zones indiquées par `### VOTRE CODE ICI - DEBUT` et `### VOTRE CODE ICI - FIN`.\n",
        "\n",
        "**Le code sera remis <del>en classe pendant votre séance de TP</del> au serveur INGInious - <span style='color:Red'> aucun document ou code ne sera accepté si envoyé par mail ou clé USB</span>**."
      ]
    },
    {
      "cell_type": "code",
      "execution_count": null,
      "metadata": {
        "id": "AZjgrvgq8z9D"
      },
      "outputs": [],
      "source": [
        "# Exécutez cette cellule puis récupérez votre fichier \"devoir1.zip\" depuis le panneau gauche dans Colab\n",
        "# Si nécessaire, faites un 'refresh' sur le répertoire pour faire apparaître le fichier 'devoir1.zip'\n",
        "\n",
        "!zip -r ./devoir1.zip linalg.py imageManip.py"
      ]
    }
  ],
  "metadata": {
    "kernelspec": {
      "display_name": "Python 3",
      "language": "python",
      "name": "python3"
    },
    "language_info": {
      "codemirror_mode": {
        "name": "ipython",
        "version": 3
      },
      "file_extension": ".py",
      "mimetype": "text/x-python",
      "name": "python",
      "nbconvert_exporter": "python",
      "pygments_lexer": "ipython3",
      "version": "3.9.2"
    },
    "vscode": {
      "interpreter": {
        "hash": "916dbcbb3f70747c44a77c7bcd40155683ae19c65e1c03b4aa3499c5328201f1"
      }
    },
    "colab": {
      "provenance": []
    }
  },
  "nbformat": 4,
  "nbformat_minor": 0
}